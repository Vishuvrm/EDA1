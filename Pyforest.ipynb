{
  "nbformat": 4,
  "nbformat_minor": 0,
  "metadata": {
    "colab": {
      "name": "Pyforest",
      "provenance": [],
      "authorship_tag": "ABX9TyM8wDbMWHJm/RtsyZ1CXGNS",
      "include_colab_link": true
    },
    "kernelspec": {
      "name": "python3",
      "display_name": "Python 3"
    }
  },
  "cells": [
    {
      "cell_type": "markdown",
      "metadata": {
        "id": "view-in-github",
        "colab_type": "text"
      },
      "source": [
        "<a href=\"https://colab.research.google.com/github/Vishuvrm/EDA1/blob/master/Pyforest.ipynb\" target=\"_parent\"><img src=\"https://colab.research.google.com/assets/colab-badge.svg\" alt=\"Open In Colab\"/></a>"
      ]
    },
    {
      "cell_type": "code",
      "metadata": {
        "colab": {
          "base_uri": "https://localhost:8080/"
        },
        "id": "aFrx4hG5VNjK",
        "outputId": "38a15e73-88ce-4c19-e558-57135629f3ef"
      },
      "source": [
        "!pip install Pyforest"
      ],
      "execution_count": 1,
      "outputs": [
        {
          "output_type": "stream",
          "text": [
            "Requirement already satisfied: Pyforest in /usr/local/lib/python3.6/dist-packages (1.0.3)\n"
          ],
          "name": "stdout"
        }
      ]
    },
    {
      "cell_type": "code",
      "metadata": {
        "id": "_3Q8Za8UVXCj"
      },
      "source": [
        ""
      ],
      "execution_count": 1,
      "outputs": []
    },
    {
      "cell_type": "code",
      "metadata": {
        "colab": {
          "base_uri": "https://localhost:8080/",
          "height": 17
        },
        "id": "obZIbi9EV0Vq",
        "outputId": "3b604e31-29de-4c3b-aac3-75da63bb1654"
      },
      "source": [
        "df = pd.read_csv(\"http://winterolympicsmedals.com/medals.csv\")"
      ],
      "execution_count": 2,
      "outputs": [
        {
          "output_type": "display_data",
          "data": {
            "application/javascript": [
              "\n",
              "        if (window._pyforest_update_imports_cell) { window._pyforest_update_imports_cell('import pandas as pd'); }\n",
              "    "
            ],
            "text/plain": [
              "<IPython.core.display.Javascript object>"
            ]
          },
          "metadata": {
            "tags": []
          }
        }
      ]
    },
    {
      "cell_type": "code",
      "metadata": {
        "colab": {
          "base_uri": "https://localhost:8080/",
          "height": 204
        },
        "id": "EaIpUR92WCtY",
        "outputId": "16d97cad-078f-4f9f-9db5-59ae8b1837e2"
      },
      "source": [
        "df.head()"
      ],
      "execution_count": 3,
      "outputs": [
        {
          "output_type": "execute_result",
          "data": {
            "text/html": [
              "<div>\n",
              "<style scoped>\n",
              "    .dataframe tbody tr th:only-of-type {\n",
              "        vertical-align: middle;\n",
              "    }\n",
              "\n",
              "    .dataframe tbody tr th {\n",
              "        vertical-align: top;\n",
              "    }\n",
              "\n",
              "    .dataframe thead th {\n",
              "        text-align: right;\n",
              "    }\n",
              "</style>\n",
              "<table border=\"1\" class=\"dataframe\">\n",
              "  <thead>\n",
              "    <tr style=\"text-align: right;\">\n",
              "      <th></th>\n",
              "      <th>Year</th>\n",
              "      <th>City</th>\n",
              "      <th>Sport</th>\n",
              "      <th>Discipline</th>\n",
              "      <th>NOC</th>\n",
              "      <th>Event</th>\n",
              "      <th>Event gender</th>\n",
              "      <th>Medal</th>\n",
              "    </tr>\n",
              "  </thead>\n",
              "  <tbody>\n",
              "    <tr>\n",
              "      <th>0</th>\n",
              "      <td>1924</td>\n",
              "      <td>Chamonix</td>\n",
              "      <td>Skating</td>\n",
              "      <td>Figure skating</td>\n",
              "      <td>AUT</td>\n",
              "      <td>individual</td>\n",
              "      <td>M</td>\n",
              "      <td>Silver</td>\n",
              "    </tr>\n",
              "    <tr>\n",
              "      <th>1</th>\n",
              "      <td>1924</td>\n",
              "      <td>Chamonix</td>\n",
              "      <td>Skating</td>\n",
              "      <td>Figure skating</td>\n",
              "      <td>AUT</td>\n",
              "      <td>individual</td>\n",
              "      <td>W</td>\n",
              "      <td>Gold</td>\n",
              "    </tr>\n",
              "    <tr>\n",
              "      <th>2</th>\n",
              "      <td>1924</td>\n",
              "      <td>Chamonix</td>\n",
              "      <td>Skating</td>\n",
              "      <td>Figure skating</td>\n",
              "      <td>AUT</td>\n",
              "      <td>pairs</td>\n",
              "      <td>X</td>\n",
              "      <td>Gold</td>\n",
              "    </tr>\n",
              "    <tr>\n",
              "      <th>3</th>\n",
              "      <td>1924</td>\n",
              "      <td>Chamonix</td>\n",
              "      <td>Bobsleigh</td>\n",
              "      <td>Bobsleigh</td>\n",
              "      <td>BEL</td>\n",
              "      <td>four-man</td>\n",
              "      <td>M</td>\n",
              "      <td>Bronze</td>\n",
              "    </tr>\n",
              "    <tr>\n",
              "      <th>4</th>\n",
              "      <td>1924</td>\n",
              "      <td>Chamonix</td>\n",
              "      <td>Ice Hockey</td>\n",
              "      <td>Ice Hockey</td>\n",
              "      <td>CAN</td>\n",
              "      <td>ice hockey</td>\n",
              "      <td>M</td>\n",
              "      <td>Gold</td>\n",
              "    </tr>\n",
              "  </tbody>\n",
              "</table>\n",
              "</div>"
            ],
            "text/plain": [
              "   Year      City       Sport  ...       Event Event gender   Medal\n",
              "0  1924  Chamonix     Skating  ...  individual            M  Silver\n",
              "1  1924  Chamonix     Skating  ...  individual            W    Gold\n",
              "2  1924  Chamonix     Skating  ...       pairs            X    Gold\n",
              "3  1924  Chamonix   Bobsleigh  ...    four-man            M  Bronze\n",
              "4  1924  Chamonix  Ice Hockey  ...  ice hockey            M    Gold\n",
              "\n",
              "[5 rows x 8 columns]"
            ]
          },
          "metadata": {
            "tags": []
          },
          "execution_count": 3
        }
      ]
    },
    {
      "cell_type": "code",
      "metadata": {
        "colab": {
          "base_uri": "https://localhost:8080/"
        },
        "id": "k5wfEbDGWdi3",
        "outputId": "1e0e9521-c6be-4fa0-9871-e512b718bb1b"
      },
      "source": [
        "active_imports()"
      ],
      "execution_count": 4,
      "outputs": [
        {
          "output_type": "stream",
          "text": [
            "import altair as alt\n",
            "import pandas as pd\n"
          ],
          "name": "stdout"
        },
        {
          "output_type": "execute_result",
          "data": {
            "text/plain": [
              "['import altair as alt', 'import pandas as pd']"
            ]
          },
          "metadata": {
            "tags": []
          },
          "execution_count": 4
        }
      ]
    },
    {
      "cell_type": "code",
      "metadata": {
        "id": "71Z_U_iiWjKV"
      },
      "source": [
        "lst1 = [1,2,3,4]\r\n",
        "lst2=[3,4,5,6]"
      ],
      "execution_count": 5,
      "outputs": []
    },
    {
      "cell_type": "code",
      "metadata": {
        "colab": {
          "base_uri": "https://localhost:8080/",
          "height": 282
        },
        "id": "9ocV2Q3FWpKs",
        "outputId": "02362254-614a-4ac9-e9b6-3019477e4302"
      },
      "source": [
        "plt.plot(lst1,lst2)"
      ],
      "execution_count": 6,
      "outputs": [
        {
          "output_type": "display_data",
          "data": {
            "application/javascript": [
              "\n",
              "        if (window._pyforest_update_imports_cell) { window._pyforest_update_imports_cell('import pydot\\nimport pandas as pd\\nimport pickle\\nimport altair as alt\\nimport matplotlib.pyplot as plt\\nimport plotly as py\\nfrom openpyxl import load_workbook\\nimport lightgbm as lgb\\nimport plotly.express as px\\nimport bokeh'); }\n",
              "    "
            ],
            "text/plain": [
              "<IPython.core.display.Javascript object>"
            ]
          },
          "metadata": {
            "tags": []
          }
        },
        {
          "output_type": "execute_result",
          "data": {
            "text/plain": [
              "[<matplotlib.lines.Line2D at 0x7f5d49858390>]"
            ]
          },
          "metadata": {
            "tags": []
          },
          "execution_count": 6
        },
        {
          "output_type": "display_data",
          "data": {
            "image/png": "[encoded data removed]",
            "text/plain": [
              "<Figure size 432x288 with 1 Axes>"
            ]
          },
          "metadata": {
            "tags": [],
            "needs_background": "light"
          }
        }
      ]
    },
    {
      "cell_type": "code",
      "metadata": {
        "colab": {
          "base_uri": "https://localhost:8080/"
        },
        "id": "kuL-59-TWrTp",
        "outputId": "2c6a4f32-039e-4425-9134-9f520b9746e7"
      },
      "source": [
        "active_imports()"
      ],
      "execution_count": 7,
      "outputs": [
        {
          "output_type": "stream",
          "text": [
            "import pydot\n",
            "import pandas as pd\n",
            "import pickle\n",
            "import altair as alt\n",
            "import matplotlib.pyplot as plt\n",
            "import plotly as py\n",
            "from openpyxl import load_workbook\n",
            "import lightgbm as lgb\n",
            "import plotly.express as px\n",
            "import bokeh\n"
          ],
          "name": "stdout"
        },
        {
          "output_type": "execute_result",
          "data": {
            "text/plain": [
              "['import pydot',\n",
              " 'import pandas as pd',\n",
              " 'import pickle',\n",
              " 'import altair as alt',\n",
              " 'import matplotlib.pyplot as plt',\n",
              " 'import plotly as py',\n",
              " 'from openpyxl import load_workbook',\n",
              " 'import lightgbm as lgb',\n",
              " 'import plotly.express as px',\n",
              " 'import bokeh']"
            ]
          },
          "metadata": {
            "tags": []
          },
          "execution_count": 7
        }
      ]
    },
    {
      "cell_type": "code",
      "metadata": {
        "colab": {
          "base_uri": "https://localhost:8080/",
          "height": 34
        },
        "id": "6O-KoeMOWuA7",
        "outputId": "f384a899-b28f-4def-a89e-bc86f01c6fe1"
      },
      "source": [
        "np.array([1,2,3])"
      ],
      "execution_count": 9,
      "outputs": [
        {
          "output_type": "display_data",
          "data": {
            "application/javascript": [
              "\n",
              "        if (window._pyforest_update_imports_cell) { window._pyforest_update_imports_cell('import numpy as np\\nimport pydot\\nimport pandas as pd\\nimport pickle\\nimport altair as alt\\nimport matplotlib.pyplot as plt\\nimport plotly as py\\nfrom openpyxl import load_workbook\\nimport nltk\\nimport lightgbm as lgb\\nimport plotly.express as px\\nimport bokeh'); }\n",
              "    "
            ],
            "text/plain": [
              "<IPython.core.display.Javascript object>"
            ]
          },
          "metadata": {
            "tags": []
          }
        },
        {
          "output_type": "execute_result",
          "data": {
            "text/plain": [
              "array([1, 2, 3])"
            ]
          },
          "metadata": {
            "tags": []
          },
          "execution_count": 9
        }
      ]
    },
    {
      "cell_type": "code",
      "metadata": {
        "colab": {
          "base_uri": "https://localhost:8080/"
        },
        "id": "HZFWdpkgW8wN",
        "outputId": "886386e2-02ef-4983-9783-68762a184b5c"
      },
      "source": [
        "active_imports()"
      ],
      "execution_count": 10,
      "outputs": [
        {
          "output_type": "stream",
          "text": [
            "import numpy as np\n",
            "import pydot\n",
            "import pandas as pd\n",
            "import pickle\n",
            "import altair as alt\n",
            "import matplotlib.pyplot as plt\n",
            "import plotly as py\n",
            "from openpyxl import load_workbook\n",
            "import nltk\n",
            "import lightgbm as lgb\n",
            "import plotly.express as px\n",
            "import bokeh\n"
          ],
          "name": "stdout"
        },
        {
          "output_type": "execute_result",
          "data": {
            "text/plain": [
              "['import numpy as np',\n",
              " 'import pydot',\n",
              " 'import pandas as pd',\n",
              " 'import pickle',\n",
              " 'import altair as alt',\n",
              " 'import matplotlib.pyplot as plt',\n",
              " 'import plotly as py',\n",
              " 'from openpyxl import load_workbook',\n",
              " 'import nltk',\n",
              " 'import lightgbm as lgb',\n",
              " 'import plotly.express as px',\n",
              " 'import bokeh']"
            ]
          },
          "metadata": {
            "tags": []
          },
          "execution_count": 10
        }
      ]
    },
    {
      "cell_type": "code",
      "metadata": {
        "colab": {
          "base_uri": "https://localhost:8080/",
          "height": 385
        },
        "id": "SDriXYAWXA0R",
        "outputId": "06c61ed2-aa48-4fa9-dc0a-5d4b670026df"
      },
      "source": [
        "sns.countplot(df.Medal)"
      ],
      "execution_count": 11,
      "outputs": [
        {
          "output_type": "display_data",
          "data": {
            "application/javascript": [
              "\n",
              "        if (window._pyforest_update_imports_cell) { window._pyforest_update_imports_cell('import sys\\nimport numpy as np\\nimport pydot\\nimport pandas as pd\\nimport pickle\\nimport altair as alt\\nimport statistics\\nimport matplotlib.pyplot as plt\\nimport sklearn\\nimport plotly.express as px\\nimport spacy\\nfrom sklearn import svm\\nimport plotly as py\\nfrom openpyxl import load_workbook\\nimport nltk\\nimport lightgbm as lgb\\nimport seaborn as sns\\nimport bokeh'); }\n",
              "    "
            ],
            "text/plain": [
              "<IPython.core.display.Javascript object>"
            ]
          },
          "metadata": {
            "tags": []
          }
        },
        {
          "output_type": "stream",
          "text": [
            "/usr/local/lib/python3.6/dist-packages/seaborn/_decorators.py:43: FutureWarning:\n",
            "\n",
            "Pass the following variable as a keyword arg: x. From version 0.12, the only valid positional argument will be `data`, and passing other arguments without an explicit keyword will result in an error or misinterpretation.\n",
            "\n"
          ],
          "name": "stderr"
        },
        {
          "output_type": "execute_result",
          "data": {
            "text/plain": [
              "<matplotlib.axes._subplots.AxesSubplot at 0x7f5d43aa7860>"
            ]
          },
          "metadata": {
            "tags": []
          },
          "execution_count": 11
        },
        {
          "output_type": "display_data",
          "data": {
            "image/png": "[encoded data removed]",
            "text/plain": [
              "<Figure size 432x288 with 1 Axes>"
            ]
          },
          "metadata": {
            "tags": [],
            "needs_background": "light"
          }
        }
      ]
    },
    {
      "cell_type": "code",
      "metadata": {
        "id": "3Ht8UW9yXVWs"
      },
      "source": [
        "active_imports()"
      ],
      "execution_count": null,
      "outputs": []
    },
    {
      "cell_type": "code",
      "metadata": {
        "colab": {
          "base_uri": "https://localhost:8080/",
          "height": 54
        },
        "id": "x2bJgx2oXYwg",
        "outputId": "e74eecaa-d36f-476d-b9f6-8808a01a4791"
      },
      "source": [
        "sklearn.linear_model"
      ],
      "execution_count": 13,
      "outputs": [
        {
          "output_type": "display_data",
          "data": {
            "application/javascript": [
              "\n",
              "        if (window._pyforest_update_imports_cell) { window._pyforest_update_imports_cell('import sys\\nimport numpy as np\\nimport pydot\\nimport pandas as pd\\nimport pickle\\nimport altair as alt\\nimport statistics\\nimport matplotlib.pyplot as plt\\nimport sklearn\\nimport plotly.express as px\\nimport spacy\\nfrom sklearn import svm\\nimport plotly as py\\nfrom openpyxl import load_workbook\\nimport nltk\\nimport lightgbm as lgb\\nimport seaborn as sns\\nimport bokeh'); }\n",
              "    "
            ],
            "text/plain": [
              "<IPython.core.display.Javascript object>"
            ]
          },
          "metadata": {
            "tags": []
          }
        },
        {
          "output_type": "execute_result",
          "data": {
            "text/plain": [
              "<module 'sklearn.linear_model' from '/usr/local/lib/python3.6/dist-packages/sklearn/linear_model/__init__.py'>"
            ]
          },
          "metadata": {
            "tags": []
          },
          "execution_count": 13
        }
      ]
    },
    {
      "cell_type": "code",
      "metadata": {
        "id": "b5dDdExtYuIF"
      },
      "source": [
        "active_imports()"
      ],
      "execution_count": null,
      "outputs": []
    },
    {
      "cell_type": "code",
      "metadata": {
        "colab": {
          "base_uri": "https://localhost:8080/",
          "height": 34
        },
        "id": "PsZJoY50Ywlt",
        "outputId": "fc2818da-919d-4b1b-8686-f9a92e8686cf"
      },
      "source": [
        "tf.atan"
      ],
      "execution_count": 16,
      "outputs": [
        {
          "output_type": "display_data",
          "data": {
            "application/javascript": [
              "\n",
              "        if (window._pyforest_update_imports_cell) { window._pyforest_update_imports_cell('import pandas as pd\\nimport altair as alt\\nimport statistics\\nimport matplotlib.pyplot as plt\\nfrom sklearn import svm\\nimport nltk\\nimport sys\\nimport spacy\\nimport lightgbm as lgb\\nimport tensorflow as tf\\nimport pydot\\nimport pickle\\nimport tqdm\\nfrom sklearn.model_selection import train_test_split\\nimport seaborn as sns\\nimport numpy as np\\nimport sklearn\\nimport plotly as py\\nfrom openpyxl import load_workbook\\nimport plotly.express as px\\nimport bokeh'); }\n",
              "    "
            ],
            "text/plain": [
              "<IPython.core.display.Javascript object>"
            ]
          },
          "metadata": {
            "tags": []
          }
        },
        {
          "output_type": "execute_result",
          "data": {
            "text/plain": [
              "<function tensorflow.python.ops.gen_math_ops.atan>"
            ]
          },
          "metadata": {
            "tags": []
          },
          "execution_count": 16
        }
      ]
    },
    {
      "cell_type": "code",
      "metadata": {
        "colab": {
          "base_uri": "https://localhost:8080/"
        },
        "id": "OdyMnFQBY70l",
        "outputId": "45209fff-32b9-4f6a-fec4-fc6d857d0fb3"
      },
      "source": [
        "active_imports()"
      ],
      "execution_count": 18,
      "outputs": [
        {
          "output_type": "stream",
          "text": [
            "import pandas as pd\n",
            "import altair as alt\n",
            "import statistics\n",
            "import matplotlib.pyplot as plt\n",
            "from sklearn import svm\n",
            "import nltk\n",
            "import sys\n",
            "import spacy\n",
            "import lightgbm as lgb\n",
            "import tensorflow as tf\n",
            "import pydot\n",
            "import pickle\n",
            "import tqdm\n",
            "from sklearn.model_selection import train_test_split\n",
            "import seaborn as sns\n",
            "import numpy as np\n",
            "import sklearn\n",
            "import plotly as py\n",
            "from openpyxl import load_workbook\n",
            "import plotly.express as px\n",
            "import bokeh\n"
          ],
          "name": "stdout"
        },
        {
          "output_type": "execute_result",
          "data": {
            "text/plain": [
              "['import pandas as pd',\n",
              " 'import altair as alt',\n",
              " 'import statistics',\n",
              " 'import matplotlib.pyplot as plt',\n",
              " 'from sklearn import svm',\n",
              " 'import nltk',\n",
              " 'import sys',\n",
              " 'import spacy',\n",
              " 'import lightgbm as lgb',\n",
              " 'import tensorflow as tf',\n",
              " 'import pydot',\n",
              " 'import pickle',\n",
              " 'import tqdm',\n",
              " 'from sklearn.model_selection import train_test_split',\n",
              " 'import seaborn as sns',\n",
              " 'import numpy as np',\n",
              " 'import sklearn',\n",
              " 'import plotly as py',\n",
              " 'from openpyxl import load_workbook',\n",
              " 'import plotly.express as px',\n",
              " 'import bokeh']"
            ]
          },
          "metadata": {
            "tags": []
          },
          "execution_count": 18
        }
      ]
    },
    {
      "cell_type": "code",
      "metadata": {
        "id": "xlq0lGgCY9x5"
      },
      "source": [
        ""
      ],
      "execution_count": null,
      "outputs": []
    }
  ]
}